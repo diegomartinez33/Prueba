{
 "cells": [
  {
   "cell_type": "markdown",
   "metadata": {},
   "source": [
    "## Demo:"
   ]
  },
  {
   "cell_type": "code",
   "execution_count": 2,
   "metadata": {},
   "outputs": [
    {
     "name": "stdout",
     "output_type": "stream",
     "text": [
      "directory ./data already exists\n"
     ]
    }
   ],
   "source": [
    "%matplotlib inline\n",
    "import matplotlib.pyplot as plt\n",
    "import cv2\n",
    "import os\n",
    "import numpy as np\n",
    "import random\n",
    "#import cPickle as pickle\n",
    "import pickle\n",
    "\n",
    "train_size = 9800\n",
    "test_size = 200\n",
    "img_size = 75\n",
    "size = 5 #Size of the objects in pixels\n",
    "\n",
    "question_size = 11 ##6 for one-hot vector of color, 2 for question type, 3 for question subtype\n",
    "\"\"\"Answer : [yes, no, rectangle, circle,  r, g, b, o, k, y]\"\"\"\n",
    "\n",
    "nb_questions = 10 #number of question per image\n",
    "dirs = './data'\n",
    "\n",
    "colors = [\n",
    "    (0,0,255),##r\n",
    "    (0,255,0),##g\n",
    "    (255,0,0),##b\n",
    "    (0,156,255),##o\n",
    "    (128,128,128),##k\n",
    "    (0,255,255)##y\n",
    "]\n",
    "\n",
    "try:\n",
    "    os.makedirs(dirs)\n",
    "except:\n",
    "    print('directory {} already exists'.format(dirs))\n",
    "    \n",
    "img = np.ones((img_size,img_size,3)) * 255\n",
    "\n",
    "def center_generate(objects):\n",
    "    while True:\n",
    "        pas = True\n",
    "        center = np.random.randint(0+size, img_size - size, 2)        \n",
    "        if len(objects) > 0:\n",
    "            for name,c,shape in objects:\n",
    "                if ((center - c) ** 2).sum() < ((size * 2) ** 2):\n",
    "                    pas = False\n",
    "        if pas:\n",
    "            return center"
   ]
  },
  {
   "cell_type": "markdown",
   "metadata": {},
   "source": [
    "### To add a new figure on sort-of-CLEVR database was necesary to create it _*(cv2.ellipse())*_  as follows:"
   ]
  },
  {
   "cell_type": "code",
   "execution_count": 3,
   "metadata": {},
   "outputs": [
    {
     "data": {
      "text/plain": [
       "(-0.5, 74.5, 74.5, -0.5)"
      ]
     },
     "execution_count": 3,
     "metadata": {},
     "output_type": "execute_result"
    },
    {
     "data": {
      "image/png": "[encoded data removed]",
      "text/plain": [
       "<matplotlib.figure.Figure at 0x7f38134c5b00>"
      ]
     },
     "metadata": {},
     "output_type": "display_data"
    }
   ],
   "source": [
    "objects = []\n",
    "img = np.ones((img_size,img_size,3)) * 255\n",
    "for color_id,color in enumerate(colors):  \n",
    "    center = center_generate(objects)\n",
    "    x=random.random()\n",
    "    #Range chaged: \n",
    "    #rectangle if random.random()<0.33, \n",
    "    #circle if 0.33<random.random()<0.66, \n",
    "    #ellipse ifrandom.random()<0.33\n",
    "    if x<0.33:\n",
    "        start = (center[0]-size, center[1]-size)\n",
    "        end = (center[0]+size, center[1]+size)\n",
    "        cv2.rectangle(img, start, end, color, -1)\n",
    "        objects.append((color_id,center,'r'))\n",
    "    elif x>0.33 and x<0.66:\n",
    "        center_ = (center[0], center[1])\n",
    "        cv2.circle(img, center_, size, color, -1)\n",
    "        objects.append((color_id,center,'c'))\n",
    "    else:\n",
    "        center_ = (center[0], center[1])\n",
    "        axes=(size+2, size-2)\n",
    "        angle=int(90)\n",
    "        start=int(0)\n",
    "        end=int(360)\n",
    "        cv2.ellipse(img, center_, axes, angle, start, end, color, -1)#New Figure: ellipse\n",
    "        objects.append((color_id,center,'e'))\n",
    "plt.imshow(img[:,:,(2,1,0)].astype(np.uint8))\n",
    "plt.axis('off')"
   ]
  },
  {
   "cell_type": "markdown",
   "metadata": {},
   "source": [
    "### Then code for question creation also was chaged:\n",
    "#### First, for non-relational questions, new condition was added in order to insert the new figure in an answer. In this case the position in the answer vector was 4: Answer : [yes, no, rectangle, circle, ellipse r, g, b, o, k, y]"
   ]
  },
  {
   "cell_type": "code",
   "execution_count": 4,
   "metadata": {},
   "outputs": [
    {
     "name": "stdout",
     "output_type": "stream",
     "text": [
      "[ 0.  1.  0.  0.  0.  0.  1.  0.  1.  0.  0.]\n",
      "color: 1\n",
      "subtype: 0\n",
      "answer: 2\n"
     ]
    }
   ],
   "source": [
    "rel_questions = []\n",
    "norel_questions = []\n",
    "rel_answers = []\n",
    "norel_answers = []\n",
    "\n",
    "#question_size = 11 ##6 for one-hot vector of color, 2 for question type, 3 for question subtype\n",
    "\"\"\"Non-relational questions\"\"\"\n",
    "question = np.zeros((question_size))\n",
    "color = random.randint(0,5)\n",
    "question[color] = 1\n",
    "question[6] = 1\n",
    "subtype = random.randint(0,2)\n",
    "question[subtype+8] = 1\n",
    "\"\"\"Answer : [yes, no, rectangle, circle, ellipse r, g, b, o, k, y]\"\"\"\n",
    "if subtype == 0:\n",
    "    \"\"\"query shape->rectangle/circle\"\"\"\n",
    "    if objects[color][2] == 'r':\n",
    "        answer = 2\n",
    "    elif objects[color][2] == 'c':# Here\n",
    "        answer = 3\n",
    "    else:\n",
    "        answer = 4# and Here\n",
    "elif subtype == 1:\n",
    "    \"\"\"query horizontal position->yes/no\"\"\"\n",
    "    if objects[color][1][0] < img_size / 2:\n",
    "        answer = 0\n",
    "    else:\n",
    "        answer = 1\n",
    "\n",
    "elif subtype == 2:\n",
    "    \"\"\"query vertical position->yes/no\"\"\"\n",
    "    if objects[color][1][1] < img_size / 2:\n",
    "        answer = 0\n",
    "    else:\n",
    "        answer = 1\n",
    "print(question)\n",
    "print(\"color:\",color)\n",
    "print(\"subtype:\",subtype)\n",
    "print(\"answer:\", answer)"
   ]
  },
  {
   "cell_type": "markdown",
   "metadata": {},
   "source": [
    "#### The same was changed for relational questions. Position 4 in answer vector"
   ]
  },
  {
   "cell_type": "code",
   "execution_count": 5,
   "metadata": {},
   "outputs": [
    {
     "name": "stdout",
     "output_type": "stream",
     "text": [
      "[ 0.  0.  0.  0.  1.  0.  0.  1.  1.  0.  0.]\n",
      "color: 4\n",
      "subtype: 0\n",
      "answer: 4\n"
     ]
    }
   ],
   "source": [
    "#question_size = 11 ##6 for one-hot vector of color, 2 for question type, 3 for question subtype\n",
    "\n",
    "\"\"\"Relational questions\"\"\"\n",
    "question = np.zeros((question_size))\n",
    "color = random.randint(0,5)\n",
    "question[color] = 1\n",
    "question[7] = 1\n",
    "subtype = random.randint(0,2)\n",
    "question[subtype+8] = 1\n",
    "rel_questions.append(question)\n",
    "\n",
    "if subtype == 0:\n",
    "    \"\"\"closest-to->rectangle/circle\"\"\"\n",
    "    my_obj = objects[color][1]\n",
    "    dist_list = [((my_obj - obj[1]) ** 2).sum() for obj in objects]\n",
    "    dist_list[dist_list.index(0)] = 999\n",
    "    closest = dist_list.index(min(dist_list))\n",
    "    if objects[closest][2] == 'r':\n",
    "        answer = 2\n",
    "    elif objects[closest][2] == 'c':# Here\n",
    "        answer = 3\n",
    "    else:\n",
    "        answer = 4# Here\n",
    "                \n",
    "elif subtype == 1:\n",
    "    \"\"\"furthest-from->rectangle/circle\"\"\"\n",
    "    my_obj = objects[color][1]\n",
    "    dist_list = [((my_obj - obj[1]) ** 2).sum() for obj in objects]\n",
    "    furthest = dist_list.index(max(dist_list))\n",
    "    if objects[furthest][2] == 'r':\n",
    "        answer = 2\n",
    "    elif objects[furthest][2] == 'c':# Here\n",
    "        answer = 3\n",
    "    else:\n",
    "        answer = 4# and Here\n",
    "\n",
    "elif subtype == 2:\n",
    "    \"\"\"count->1~6\"\"\"\n",
    "    my_obj = objects[color][2]\n",
    "    count = -1\n",
    "    for obj in objects:\n",
    "        if obj[2] == my_obj:\n",
    "            count +=1 \n",
    "    answer = count+4\n",
    "print(question)\n",
    "print(\"color:\",color)\n",
    "print(\"subtype:\",subtype)\n",
    "print(\"answer:\",answer)"
   ]
  },
  {
   "cell_type": "markdown",
   "metadata": {},
   "source": [
    "### This changes was added to _*sort_of_clevr_generator.py*_ code to generate the entire database. Aditionally, in _*translator.py*_ the answer sheet variable was changed, adding _*'ellipse'*_ in fourth position, according to previous modifications: "
   ]
  },
  {
   "cell_type": "code",
   "execution_count": 6,
   "metadata": {
    "collapsed": true
   },
   "outputs": [],
   "source": [
    "# In translator.py:\n",
    "\n",
    "#answer_sheet = ['yes', 'no', 'rectangle', 'circle', 'ellipse', '1', '2', '3', '4', '5', '6']"
   ]
  },
  {
   "cell_type": "markdown",
   "metadata": {},
   "source": [
    "## Now, after training and creating the model (Test set: Relation accuracy=76% and Non-relation accuracy: 99%), is posible to test diferent images:"
   ]
  },
  {
   "cell_type": "code",
   "execution_count": 7,
   "metadata": {},
   "outputs": [
    {
     "data": {
      "text/plain": [
       "<matplotlib.figure.Figure at 0x7f38114686d8>"
      ]
     },
     "metadata": {},
     "output_type": "display_data"
    }
   ],
   "source": [
    "run main.py"
   ]
  },
  {
   "cell_type": "code",
   "execution_count": 8,
   "metadata": {},
   "outputs": [
    {
     "name": "stdout",
     "output_type": "stream",
     "text": [
      "loading data...\n",
      "processing data...\n",
      "READY TO TEST\n"
     ]
    }
   ],
   "source": [
    "#Loading data\n",
    "def load_data():\n",
    "    print('loading data...')\n",
    "    dirs = './data'\n",
    "    filename = os.path.join(dirs,'sort-of-clevr.pickle')\n",
    "    with open(filename, 'rb') as f:\n",
    "        train_datasets, test_datasets = pickle.load(f)\n",
    "    rel_train = []\n",
    "    rel_test = []\n",
    "    norel_train = []\n",
    "    norel_test = []\n",
    "    print('processing data...')\n",
    "\n",
    "    for img, relations, norelations in train_datasets:\n",
    "        img = np.swapaxes(img,0,2)\n",
    "        for qst,ans in zip(relations[0], relations[1]):\n",
    "            rel_train.append((img,qst,ans))\n",
    "        for qst,ans in zip(norelations[0], norelations[1]):\n",
    "            norel_train.append((img,qst,ans))\n",
    "\n",
    "    for img, relations, norelations in test_datasets:\n",
    "        img = np.swapaxes(img,0,2)\n",
    "        for qst,ans in zip(relations[0], relations[1]):\n",
    "            rel_test.append((img,qst,ans))\n",
    "        for qst,ans in zip(norelations[0], norelations[1]):\n",
    "            norel_test.append((img,qst,ans))\n",
    "    \n",
    "    return (rel_train, rel_test, norel_train, norel_test)\n",
    "\n",
    "rel_train, rel_test, norel_train, norel_test = load_data()\n",
    "#Take a few seconds\n",
    "\n",
    "random.shuffle(rel_train)\n",
    "random.shuffle(norel_train)\n",
    "random.shuffle(rel_test)\n",
    "random.shuffle(norel_test)\n",
    "\n",
    "def cvt_data_axis(data):\n",
    "    img = [e[0] for e in data]\n",
    "    qst = [e[1] for e in data]\n",
    "    ans = [e[2] for e in data]\n",
    "    return (img,qst,ans)\n",
    "\n",
    "rel_train = cvt_data_axis(rel_train)\n",
    "rel_test = cvt_data_axis(rel_test)\n",
    "norel_train = cvt_data_axis(norel_train)\n",
    "norel_test = cvt_data_axis(norel_test)\n",
    "\n",
    "model = RN(args)\n",
    "\n",
    "model_dirs = './model'\n",
    "bs = args.batch_size\n",
    "input_img = torch.FloatTensor(bs, 3, 75, 75)\n",
    "input_qst = torch.FloatTensor(bs, 11)\n",
    "label = torch.LongTensor(bs)\n",
    "\n",
    "if args.cuda:\n",
    "    model.cuda()\n",
    "    input_img = input_img.cuda()\n",
    "    input_qst = input_qst.cuda()\n",
    "    label = label.cuda()\n",
    "\n",
    "input_img = Variable(input_img)\n",
    "input_qst = Variable(input_qst)\n",
    "label = Variable(label)\n",
    "\n",
    "model.train()\n",
    "\n",
    "def tensor_data(data, i):\n",
    "    img = torch.from_numpy(np.asarray(data[0][bs*i:bs*(i+1)]))\n",
    "    qst = torch.from_numpy(np.asarray(data[1][bs*i:bs*(i+1)]))\n",
    "    ans = torch.from_numpy(np.asarray(data[2][bs*i:bs*(i+1)]))\n",
    "\n",
    "    input_img.data.resize_(img.size()).copy_(img)\n",
    "    input_qst.data.resize_(qst.size()).copy_(qst)\n",
    "    label.data.resize_(ans.size()).copy_(ans)\n",
    "\n",
    "batch_idx=0 #Normally is \"for batch_idx in range(len(rel_train[0]) // bs)\"\n",
    "tensor_data(rel_train, batch_idx)\n",
    "accuracy_rel = model.train_(input_img, input_qst, label)\n",
    "\n",
    "tensor_data(norel_train, batch_idx)\n",
    "accuracy_norel = model.train_(input_img, input_qst, label)\n",
    "\n",
    "checkpoint = torch.load('model/epoch_RN_20.pth')\n",
    "model.load_state_dict(checkpoint)\n",
    "\n",
    "print('READY TO TEST')"
   ]
  },
  {
   "cell_type": "code",
   "execution_count": 9,
   "metadata": {},
   "outputs": [
    {
     "name": "stdout",
     "output_type": "stream",
     "text": [
      "NON-RELATIONAL QUESTION\n",
      "Question orange shape?\n",
      "[ 0.  0.  0.  1.  0.  0.  1.  0.  1.  0.  0.]\n",
      "Answer rectangle\n",
      "2\n"
     ]
    },
    {
     "data": {
      "image/png": "[encoded data removed]",
      "text/plain": [
       "<matplotlib.figure.Figure at 0x7f37df008160>"
      ]
     },
     "metadata": {},
     "output_type": "display_data"
    }
   ],
   "source": [
    "%matplotlib inline\n",
    "from translator import idx_to_question, idx_to_answer\n",
    "import matplotlib.pyplot as plt\n",
    "\n",
    "n = np.random.randint(0,bs)\n",
    "tensor_data(norel_test, batch_idx)\n",
    "output = model(input_img, input_qst)\n",
    "pred = output.data.max(1)[1]\n",
    "pred2=pred.cpu().numpy()\n",
    "pred2= np.expand_dims(pred2,axis=1)\n",
    "pred = torch.from_numpy(pred2)\n",
    "print(\"NON-RELATIONAL QUESTION\")\n",
    "plt.imshow((input_img[n].data.cpu().numpy().transpose(1,2,0)[:,:,(2,1,0)]*255).astype(np.uint8))\n",
    "plt.axis('off')\n",
    "print(\"Question\",idx_to_question(input_qst[n].data.cpu().numpy()))\n",
    "print(input_qst[n].data.cpu().numpy())\n",
    "print(\"Answer\", idx_to_answer(pred[n].cpu().numpy()[0]))\n",
    "print(pred[n].cpu().numpy()[0])"
   ]
  },
  {
   "cell_type": "code",
   "execution_count": 10,
   "metadata": {},
   "outputs": [
    {
     "name": "stdout",
     "output_type": "stream",
     "text": [
      "RELATIONAL QUESTION\n",
      "Question gray count?\n",
      "[ 0.  0.  0.  0.  1.  0.  0.  1.  0.  0.  1.]\n",
      "Answer 2\n",
      "6\n"
     ]
    },
    {
     "data": {
      "image/png": "[encoded data removed]",
      "text/plain": [
       "<matplotlib.figure.Figure at 0x7f381146e4e0>"
      ]
     },
     "metadata": {},
     "output_type": "display_data"
    }
   ],
   "source": [
    "n = np.random.randint(0,bs)\n",
    "tensor_data(rel_test, batch_idx)\n",
    "output = model(input_img, input_qst)\n",
    "pred = output.data.max(1)[1]\n",
    "pred2=pred.cpu().numpy()\n",
    "pred2= np.expand_dims(pred2,axis=1)\n",
    "pred = torch.from_numpy(pred2)\n",
    "print(\"RELATIONAL QUESTION\")\n",
    "plt.imshow((input_img[n].data.cpu().numpy().transpose(1,2,0)[:,:,(2,1,0)]*255).astype(np.uint8))\n",
    "plt.axis('off')\n",
    "print(\"Question\",idx_to_question(input_qst[n].data.cpu().numpy()))\n",
    "print(input_qst[n].data.cpu().numpy())\n",
    "print(\"Answer\", idx_to_answer(pred[n].cpu().numpy()[0]))\n",
    "print(pred[n].cpu().numpy()[0])"
   ]
  }
 ],
 "metadata": {
  "kernelspec": {
   "display_name": "Python 3",
   "language": "python",
   "name": "python3"
  },
  "language_info": {
   "codemirror_mode": {
    "name": "ipython",
    "version": 3
   },
   "file_extension": ".py",
   "mimetype": "text/x-python",
   "name": "python",
   "nbconvert_exporter": "python",
   "pygments_lexer": "ipython3",
   "version": "3.6.1"
  }
 },
 "nbformat": 4,
 "nbformat_minor": 2
}
